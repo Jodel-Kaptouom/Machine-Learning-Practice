{
 "cells": [
  {
   "cell_type": "markdown",
   "id": "ce305038-035b-452c-89ec-4d22e107cbd8",
   "metadata": {},
   "source": [
    "# STRUCTURES DE DONNEES : SEQUENCES "
   ]
  },
  {
   "cell_type": "code",
   "execution_count": 52,
   "id": "722d3c6a-7d8b-4257-9de1-098f1addd05e",
   "metadata": {},
   "outputs": [
    {
     "name": "stdout",
     "output_type": "stream",
     "text": [
      "Paris\n",
      "Gießen\n"
     ]
    }
   ],
   "source": [
    "# Listes \n",
    "liste_1 = [1,4,2,7,35,84]\n",
    "villes = [\"Paris\", \"Berlin\", \"Darmstadt\", \"Goettingen\", \"Gießen\"]\n",
    "liste_2 = [liste_1, villes]\n",
    "liste_3 = []\n",
    "\n",
    "# Tuple like the lists, but it is not modify \n",
    "tuple_1 = (1, 2, 6, 1, 7)\n",
    "\n",
    "print (villes[0])   # first element \n",
    "print (villes[-1])  # last element "
   ]
  },
  {
   "cell_type": "code",
   "execution_count": 53,
   "id": "ddefeb1d-5d69-4d0b-889d-18f738552b1b",
   "metadata": {},
   "outputs": [
    {
     "name": "stdout",
     "output_type": "stream",
     "text": [
      "['Paris', 'Berlin', 'Darmstadt']\n",
      "['Darmstadt', 'Goettingen', 'Gießen']\n",
      "['Berlin', 'Darmstadt']\n",
      "['Paris', 'Darmstadt', 'Gießen']\n",
      "['Gießen', 'Goettingen', 'Darmstadt', 'Berlin', 'Paris']\n"
     ]
    }
   ],
   "source": [
    "# SLICING AND INDEXING\n",
    "print (villes[:3])  # list of elements from 0 to 3 exclusiv\n",
    "print (villes[2:])  # list of elements from 2 to the last one \n",
    "print (villes[1:3])  # list of elements from 1 to 3\n",
    "print (villes[::2])  # list of elements from the first one to the last one with the footstep 2\n",
    "print (villes[::-1]) # inverse of the list"
   ]
  },
  {
   "cell_type": "code",
   "execution_count": 55,
   "id": "2adc34dd-0459-4b59-a7be-cca99a323293",
   "metadata": {},
   "outputs": [
    {
     "name": "stdout",
     "output_type": "stream",
     "text": [
      "Jo\n",
      "['Bruxelles', 'Berlin', 'Darmstadt', 'Goettingen', 'Gießen']\n"
     ]
    }
   ],
   "source": [
    "prenom = \"Jodel\"\n",
    "print (prenom[:2])\n",
    "villes[0] = \"Bruxelles\"\n",
    "print (villes)"
   ]
  },
  {
   "cell_type": "code",
   "execution_count": 56,
   "id": "588f5c0d-dbb7-43b3-9613-098edb107c9b",
   "metadata": {},
   "outputs": [
    {
     "data": {
      "text/plain": [
       "['Bruxelles', 'Berlin', 'Darmstadt', 'Goettingen', 'Gießen', 'Bremen']"
      ]
     },
     "execution_count": 56,
     "metadata": {},
     "output_type": "execute_result"
    }
   ],
   "source": [
    "villes.append (\"Bremen\")\n",
    "villes "
   ]
  },
  {
   "cell_type": "code",
   "execution_count": 57,
   "id": "9ec957d7-9fd7-4757-981c-65bc9cc719ce",
   "metadata": {},
   "outputs": [
    {
     "data": {
      "text/plain": [
       "['Bruxelles',\n",
       " 'Berlin',\n",
       " 'Wolfsburg',\n",
       " 'Darmstadt',\n",
       " 'Goettingen',\n",
       " 'Gießen',\n",
       " 'Bremen']"
      ]
     },
     "execution_count": 57,
     "metadata": {},
     "output_type": "execute_result"
    }
   ],
   "source": [
    "villes.insert (2, \"Wolfsburg\")\n",
    "villes"
   ]
  },
  {
   "cell_type": "code",
   "execution_count": 58,
   "id": "8c70c287-0781-477d-a25c-79abc1b8ac58",
   "metadata": {},
   "outputs": [
    {
     "data": {
      "text/plain": [
       "9"
      ]
     },
     "execution_count": 58,
     "metadata": {},
     "output_type": "execute_result"
    }
   ],
   "source": [
    "villes_2 = [\"Amsterdam\", \"Rome\"]\n",
    "villes.extend (villes_2)\n",
    "len (villes)"
   ]
  },
  {
   "cell_type": "code",
   "execution_count": 59,
   "id": "8fd21da2-2343-4297-8c9b-f57e1496cb7b",
   "metadata": {
    "scrolled": true
   },
   "outputs": [
    {
     "data": {
      "text/plain": [
       "['Wolfsburg',\n",
       " 'Rome',\n",
       " 'Goettingen',\n",
       " 'Gießen',\n",
       " 'Darmstadt',\n",
       " 'Bruxelles',\n",
       " 'Bremen',\n",
       " 'Berlin',\n",
       " 'Amsterdam']"
      ]
     },
     "execution_count": 59,
     "metadata": {},
     "output_type": "execute_result"
    }
   ],
   "source": [
    "villes.sort(reverse=True)\n",
    "villes"
   ]
  },
  {
   "cell_type": "code",
   "execution_count": 60,
   "id": "69c3c0f7-09dc-469f-8653-0bf81ba62f13",
   "metadata": {},
   "outputs": [
    {
     "data": {
      "text/plain": [
       "['Wolfsburg',\n",
       " 'Rome',\n",
       " 'Goettingen',\n",
       " 'Gießen',\n",
       " 'Darmstadt',\n",
       " 'Bruxelles',\n",
       " 'Bremen',\n",
       " 'Berlin',\n",
       " 'Amsterdam']"
      ]
     },
     "execution_count": 60,
     "metadata": {},
     "output_type": "execute_result"
    }
   ],
   "source": [
    "villes.count (\"Amsterdam\")\n",
    "villes\n"
   ]
  },
  {
   "cell_type": "code",
   "execution_count": 61,
   "id": "22b2bae5-4237-4b93-8033-f0416a3c1c50",
   "metadata": {
    "scrolled": true
   },
   "outputs": [
    {
     "data": {
      "text/plain": [
       "['Wolfsburg',\n",
       " 'Goettingen',\n",
       " 'Gießen',\n",
       " 'Darmstadt',\n",
       " 'Bruxelles',\n",
       " 'Bremen',\n",
       " 'Berlin',\n",
       " 'Amsterdam']"
      ]
     },
     "execution_count": 61,
     "metadata": {},
     "output_type": "execute_result"
    }
   ],
   "source": [
    "#for i in range (4):\n",
    "villes.remove (\"Rome\")\n",
    "villes"
   ]
  },
  {
   "cell_type": "code",
   "execution_count": 62,
   "id": "e5ae2ede-32d1-4573-b013-83666fa9bddf",
   "metadata": {},
   "outputs": [
    {
     "name": "stdout",
     "output_type": "stream",
     "text": [
      "0 Wolfsburg\n",
      "1 Goettingen\n",
      "2 Gießen\n",
      "3 Darmstadt\n",
      "4 Bruxelles\n",
      "5 Bremen\n",
      "6 Berlin\n",
      "7 Amsterdam\n"
     ]
    }
   ],
   "source": [
    "for index, valeur in enumerate (villes): \n",
    "    print (index, valeur)"
   ]
  },
  {
   "cell_type": "code",
   "execution_count": 63,
   "id": "95c321b1-d6a7-4a5c-ac0f-34e58cddb3b2",
   "metadata": {},
   "outputs": [
    {
     "name": "stdout",
     "output_type": "stream",
     "text": [
      "Wolfsburg [1, 4, 2, 7, 35, 84]\n",
      "Goettingen ['Wolfsburg', 'Goettingen', 'Gießen', 'Darmstadt', 'Bruxelles', 'Bremen', 'Berlin', 'Amsterdam']\n"
     ]
    }
   ],
   "source": [
    "for a, b in zip(villes, liste_2):\n",
    "    print (a, b)"
   ]
  },
  {
   "cell_type": "code",
   "execution_count": 73,
   "id": "bdb5e1a0-059b-4168-81bf-da67b487dfad",
   "metadata": {},
   "outputs": [],
   "source": [
    "def fibonacci (n):\n",
    "    a,b = 0, 1\n",
    "    resultat = []\n",
    "    while a<n:\n",
    "        print (a)\n",
    "        resultat.append(a)\n",
    "        a, b = b, a+b\n",
    "    print (resultat)"
   ]
  },
  {
   "cell_type": "code",
   "execution_count": 74,
   "id": "f5bd02aa-9b6d-4cb1-8190-07a391deb971",
   "metadata": {},
   "outputs": [
    {
     "name": "stdout",
     "output_type": "stream",
     "text": [
      "0\n",
      "1\n",
      "1\n",
      "2\n",
      "3\n",
      "5\n",
      "8\n",
      "13\n",
      "21\n",
      "34\n",
      "55\n",
      "89\n",
      "[0, 1, 1, 2, 3, 5, 8, 13, 21, 34, 55, 89]\n"
     ]
    }
   ],
   "source": [
    "fibonacci (100)"
   ]
  },
  {
   "cell_type": "code",
   "execution_count": null,
   "id": "84c25afb-83a1-44a1-bf1d-a88f050f909a",
   "metadata": {},
   "outputs": [],
   "source": []
  }
 ],
 "metadata": {
  "kernelspec": {
   "display_name": "Python 3 (ipykernel)",
   "language": "python",
   "name": "python3"
  },
  "language_info": {
   "codemirror_mode": {
    "name": "ipython",
    "version": 3
   },
   "file_extension": ".py",
   "mimetype": "text/x-python",
   "name": "python",
   "nbconvert_exporter": "python",
   "pygments_lexer": "ipython3",
   "version": "3.12.7"
  }
 },
 "nbformat": 4,
 "nbformat_minor": 5
}
