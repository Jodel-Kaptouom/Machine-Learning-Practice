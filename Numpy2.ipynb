{
 "cells": [
  {
   "cell_type": "code",
   "execution_count": 3,
   "id": "0643dc86-1a01-43c0-8b27-1a6c2a162160",
   "metadata": {},
   "outputs": [],
   "source": [
    "import numpy as np\n",
    "A = np.random.randint(0, 10, [2,3])\n",
    "B = np.ones((1, 3))"
   ]
  },
  {
   "cell_type": "code",
   "execution_count": 4,
   "id": "bf61b72c-c19a-42c9-9013-19ec6d75c18d",
   "metadata": {},
   "outputs": [
    {
     "data": {
      "text/plain": [
       "array([[5, 8, 0],\n",
       "       [3, 5, 9]])"
      ]
     },
     "execution_count": 4,
     "metadata": {},
     "output_type": "execute_result"
    }
   ],
   "source": [
    "A"
   ]
  },
  {
   "cell_type": "code",
   "execution_count": 5,
   "id": "8ff0f922-9121-4bb7-9904-35e828c4c631",
   "metadata": {},
   "outputs": [
    {
     "data": {
      "text/plain": [
       "array([[ 6.,  9.,  1.],\n",
       "       [ 4.,  6., 10.]])"
      ]
     },
     "execution_count": 5,
     "metadata": {},
     "output_type": "execute_result"
    }
   ],
   "source": [
    "A + B "
   ]
  },
  {
   "cell_type": "code",
   "execution_count": 6,
   "id": "4abe8624-5f77-4e76-8765-5ad886820c52",
   "metadata": {},
   "outputs": [
    {
     "data": {
      "text/plain": [
       "(3,)"
      ]
     },
     "execution_count": 6,
     "metadata": {},
     "output_type": "execute_result"
    }
   ],
   "source": [
    "tableau = np.array ([1, 2, 3])\n",
    "tableau.shape "
   ]
  },
  {
   "cell_type": "code",
   "execution_count": 7,
   "id": "ca3aa40b-78ce-4a33-afa5-d05235623530",
   "metadata": {},
   "outputs": [],
   "source": [
    "tableau= tableau.reshape(tableau.shape[0], 1)"
   ]
  },
  {
   "cell_type": "code",
   "execution_count": 8,
   "id": "138b42e5-a2f1-403c-966e-83fd104e4479",
   "metadata": {},
   "outputs": [
    {
     "data": {
      "text/plain": [
       "(3, 1)"
      ]
     },
     "execution_count": 8,
     "metadata": {},
     "output_type": "execute_result"
    }
   ],
   "source": [
    "tableau.shape"
   ]
  },
  {
   "cell_type": "code",
   "execution_count": 9,
   "id": "156feec9-7e2d-4278-b40c-31863aa6eb48",
   "metadata": {},
   "outputs": [
    {
     "data": {
      "text/plain": [
       "array([ 8, 13,  9])"
      ]
     },
     "execution_count": 9,
     "metadata": {},
     "output_type": "execute_result"
    }
   ],
   "source": [
    "A.sum (axis = 0)"
   ]
  },
  {
   "cell_type": "code",
   "execution_count": 10,
   "id": "576b5b72-e6d2-463d-aed5-88291363783b",
   "metadata": {},
   "outputs": [
    {
     "data": {
      "text/plain": [
       "array([13, 17])"
      ]
     },
     "execution_count": 10,
     "metadata": {},
     "output_type": "execute_result"
    }
   ],
   "source": [
    "A.sum (axis = 1)"
   ]
  },
  {
   "cell_type": "code",
   "execution_count": 11,
   "id": "248a2e27-9c5f-4908-b97a-0bc3a7e53d34",
   "metadata": {},
   "outputs": [
    {
     "data": {
      "text/plain": [
       "array([ 5, 13, 13, 16, 21, 30])"
      ]
     },
     "execution_count": 11,
     "metadata": {},
     "output_type": "execute_result"
    }
   ],
   "source": [
    "A.cumsum ()"
   ]
  },
  {
   "cell_type": "code",
   "execution_count": 12,
   "id": "4d047df7-2a25-4cdf-afa5-17cd0a05c207",
   "metadata": {},
   "outputs": [
    {
     "data": {
      "text/plain": [
       "array([3, 5, 0])"
      ]
     },
     "execution_count": 12,
     "metadata": {},
     "output_type": "execute_result"
    }
   ],
   "source": [
    "A.min (axis=0)   # position du minimum"
   ]
  },
  {
   "cell_type": "code",
   "execution_count": 13,
   "id": "787ef2c3-0071-4e37-ac4b-1fe26bc72e62",
   "metadata": {},
   "outputs": [
    {
     "data": {
      "text/plain": [
       "array([1, 1, 0], dtype=int64)"
      ]
     },
     "execution_count": 13,
     "metadata": {},
     "output_type": "execute_result"
    }
   ],
   "source": [
    "A.argmin (axis=0)"
   ]
  },
  {
   "cell_type": "code",
   "execution_count": 14,
   "id": "29a82746-bce0-4e2c-9144-4f3709fdc55d",
   "metadata": {},
   "outputs": [],
   "source": [
    "A.sort ()"
   ]
  },
  {
   "cell_type": "code",
   "execution_count": 15,
   "id": "b8f767e7-ab63-4615-aeaa-da5fef21ea0b",
   "metadata": {},
   "outputs": [
    {
     "data": {
      "text/plain": [
       "array([[1.00000000e+00, 1.48413159e+02, 2.98095799e+03],\n",
       "       [2.00855369e+01, 1.48413159e+02, 8.10308393e+03]])"
      ]
     },
     "execution_count": 15,
     "metadata": {},
     "output_type": "execute_result"
    }
   ],
   "source": [
    "np.exp(A)"
   ]
  },
  {
   "cell_type": "code",
   "execution_count": 16,
   "id": "e9a5df60-eacd-4a0e-9787-12ce68134701",
   "metadata": {},
   "outputs": [
    {
     "data": {
      "text/plain": [
       "5.0"
      ]
     },
     "execution_count": 16,
     "metadata": {},
     "output_type": "execute_result"
    }
   ],
   "source": [
    "A.mean()"
   ]
  },
  {
   "cell_type": "code",
   "execution_count": 17,
   "id": "b52304e7-2bf7-4cc9-adfe-a8ab9dddef05",
   "metadata": {},
   "outputs": [
    {
     "data": {
      "text/plain": [
       "9.0"
      ]
     },
     "execution_count": 17,
     "metadata": {},
     "output_type": "execute_result"
    }
   ],
   "source": [
    "A.var ()"
   ]
  },
  {
   "cell_type": "code",
   "execution_count": 18,
   "id": "8dfaa341-bbbb-4f24-a573-24ab84ad8537",
   "metadata": {},
   "outputs": [
    {
     "data": {
      "text/plain": [
       "3.0"
      ]
     },
     "execution_count": 18,
     "metadata": {},
     "output_type": "execute_result"
    }
   ],
   "source": [
    "A.std()   #ecart-type"
   ]
  },
  {
   "cell_type": "code",
   "execution_count": 19,
   "id": "6082f5c8-368d-4bcc-84e2-a6dce3e4e568",
   "metadata": {},
   "outputs": [
    {
     "data": {
      "text/plain": [
       "(2, 2)"
      ]
     },
     "execution_count": 19,
     "metadata": {},
     "output_type": "execute_result"
    }
   ],
   "source": [
    "B =np.corrcoef(A)\n",
    "B.shape"
   ]
  },
  {
   "cell_type": "code",
   "execution_count": 20,
   "id": "7238dc10-679a-4355-9f96-45cf1542b7a0",
   "metadata": {},
   "outputs": [
    {
     "data": {
      "text/plain": [
       "0.9449111825230679"
      ]
     },
     "execution_count": 20,
     "metadata": {},
     "output_type": "execute_result"
    }
   ],
   "source": [
    "B[0,1]"
   ]
  },
  {
   "cell_type": "code",
   "execution_count": 21,
   "id": "404e5745-c981-49c7-93fc-8bbe885e0f92",
   "metadata": {},
   "outputs": [
    {
     "data": {
      "text/plain": [
       "0.9449111825230679"
      ]
     },
     "execution_count": 21,
     "metadata": {},
     "output_type": "execute_result"
    }
   ],
   "source": [
    "np.corrcoef(A)[0,1]"
   ]
  },
  {
   "cell_type": "code",
   "execution_count": 22,
   "id": "0015b167-71ed-4744-a277-111f6217230f",
   "metadata": {},
   "outputs": [],
   "source": [
    "C = np.random.randint(0,10, [5,5])"
   ]
  },
  {
   "cell_type": "code",
   "execution_count": 23,
   "id": "3f5f21bd-40e2-4f4a-9ac3-387b179ab8af",
   "metadata": {},
   "outputs": [
    {
     "data": {
      "text/plain": [
       "array([[5, 2, 8, 0, 4],\n",
       "       [9, 8, 8, 7, 6],\n",
       "       [9, 3, 6, 5, 8],\n",
       "       [1, 9, 2, 9, 5],\n",
       "       [4, 6, 7, 5, 5]])"
      ]
     },
     "execution_count": 23,
     "metadata": {},
     "output_type": "execute_result"
    }
   ],
   "source": [
    "C"
   ]
  },
  {
   "cell_type": "code",
   "execution_count": 24,
   "id": "c2e9868e-b061-45f5-81cc-3d452ce40daf",
   "metadata": {},
   "outputs": [],
   "source": [
    "values, counts =np.unique(C, return_counts=True)    # classe les elements et donne le nombre de fois que le nombre se repete"
   ]
  },
  {
   "cell_type": "code",
   "execution_count": 25,
   "id": "f329c344-c0b4-4753-9860-8be2a9754f7a",
   "metadata": {},
   "outputs": [
    {
     "name": "stdout",
     "output_type": "stream",
     "text": [
      "[0 1 2 3 4 5 6 7 8 9] [1 1 2 1 2 5 3 2 4 4]\n"
     ]
    }
   ],
   "source": [
    "print (values, counts) "
   ]
  },
  {
   "cell_type": "code",
   "execution_count": 26,
   "id": "f67f72c1-68cb-49e6-8187-adc6f372d3fd",
   "metadata": {},
   "outputs": [
    {
     "data": {
      "text/plain": [
       "array([0, 1, 3, 2, 4, 7, 6, 8, 9, 5], dtype=int64)"
      ]
     },
     "execution_count": 26,
     "metadata": {},
     "output_type": "execute_result"
    }
   ],
   "source": [
    "counts.argsort()  # done l'index de chaque elment pour les calsser en ordre"
   ]
  },
  {
   "cell_type": "code",
   "execution_count": 27,
   "id": "4456a1a0-e7db-4b67-9132-f14dc21cd66f",
   "metadata": {},
   "outputs": [
    {
     "data": {
      "text/plain": [
       "array([0, 1, 3, 2, 4, 7, 6, 8, 9, 5])"
      ]
     },
     "execution_count": 27,
     "metadata": {},
     "output_type": "execute_result"
    }
   ],
   "source": [
    "values [counts.argsort()]     # classe le nombre qui aparait du moins au plus "
   ]
  },
  {
   "cell_type": "code",
   "execution_count": 28,
   "id": "07f38e22-3a0a-47a7-a4cd-ecf4d93ba749",
   "metadata": {},
   "outputs": [],
   "source": [
    "(counts.sort())"
   ]
  },
  {
   "cell_type": "code",
   "execution_count": 29,
   "id": "73013bbc-0473-4d02-ab7d-f621b579570d",
   "metadata": {},
   "outputs": [
    {
     "name": "stdout",
     "output_type": "stream",
     "text": [
      "la valeur 0 apparait 1 fois\n",
      "la valeur 1 apparait 1 fois\n",
      "la valeur 2 apparait 1 fois\n",
      "la valeur 3 apparait 2 fois\n",
      "la valeur 4 apparait 2 fois\n",
      "la valeur 5 apparait 2 fois\n",
      "la valeur 6 apparait 3 fois\n",
      "la valeur 7 apparait 4 fois\n",
      "la valeur 8 apparait 4 fois\n",
      "la valeur 9 apparait 5 fois\n"
     ]
    }
   ],
   "source": [
    "for i,j in zip(values [counts.argsort()], counts[counts.argsort()]) : \n",
    "    print (f\"la valeur {i} apparait {j} fois\")"
   ]
  },
  {
   "cell_type": "markdown",
   "id": "d17ca774-03bb-4403-9978-57f991f155e8",
   "metadata": {},
   "source": [
    "Pour des elements de ton tableau qui sont nan et que tu aimerait calculer la variance ou la moyenn \n",
    "ou alors l'ecart type tu peux utiliser np.nanmean(), np.nanstd(), np.nanvar(), np.isnan() donne le ndarray sous forme\n",
    "boolean avec les TRue ou il ya nanet pour les mettre a 0 on fait l'indexing A: matrix , A[np.isnan(A)] = 0"
   ]
  },
  {
   "cell_type": "code",
   "execution_count": 30,
   "id": "5c7d4cb4-59f4-4b9b-b4cf-7c78ddf4dc61",
   "metadata": {},
   "outputs": [
    {
     "data": {
      "text/plain": [
       "array([[1., 1., 1.],\n",
       "       [1., 1., 1.]])"
      ]
     },
     "execution_count": 30,
     "metadata": {},
     "output_type": "execute_result"
    }
   ],
   "source": [
    "A = np.ones((2,3))\n",
    "A"
   ]
  },
  {
   "cell_type": "code",
   "execution_count": 31,
   "id": "182c40c6-b228-4fdf-9b12-befa622de27c",
   "metadata": {},
   "outputs": [
    {
     "data": {
      "text/plain": [
       "array([[1., 1.],\n",
       "       [1., 1.],\n",
       "       [1., 1.]])"
      ]
     },
     "execution_count": 31,
     "metadata": {},
     "output_type": "execute_result"
    }
   ],
   "source": [
    "B = np.ones ((3,2))\n",
    "B"
   ]
  },
  {
   "cell_type": "code",
   "execution_count": 32,
   "id": "23aa3756-54ca-4afb-b9e6-906d4461310a",
   "metadata": {
    "scrolled": true
   },
   "outputs": [
    {
     "data": {
      "text/plain": [
       "array([[1., 1.],\n",
       "       [1., 1.],\n",
       "       [1., 1.]])"
      ]
     },
     "execution_count": 32,
     "metadata": {},
     "output_type": "execute_result"
    }
   ],
   "source": [
    "A.T"
   ]
  },
  {
   "cell_type": "code",
   "execution_count": 33,
   "id": "6e68beee-41b4-4dd1-9bc8-02105dc66b05",
   "metadata": {},
   "outputs": [
    {
     "data": {
      "text/plain": [
       "array([[3., 3.],\n",
       "       [3., 3.]])"
      ]
     },
     "execution_count": 33,
     "metadata": {},
     "output_type": "execute_result"
    }
   ],
   "source": [
    "A.dot(B)   # produit matricielle"
   ]
  },
  {
   "cell_type": "code",
   "execution_count": 34,
   "id": "73b3559f-e623-4b63-ad62-9ccc7d6551b2",
   "metadata": {},
   "outputs": [
    {
     "data": {
      "text/plain": [
       "-138.00000000000006"
      ]
     },
     "execution_count": 34,
     "metadata": {},
     "output_type": "execute_result"
    }
   ],
   "source": [
    "A= np.random.randint(0,10, [3,3])\n",
    "np.linalg.det(A)"
   ]
  },
  {
   "cell_type": "code",
   "execution_count": 35,
   "id": "dee3c8bd-5736-4b33-9e58-787050960ae1",
   "metadata": {},
   "outputs": [
    {
     "data": {
      "text/plain": [
       "array([[ 0.18115942, -0.08695652, -0.04347826],\n",
       "       [ 0.05072464, -0.30434783,  0.34782609],\n",
       "       [-0.06521739,  0.39130435, -0.30434783]])"
      ]
     },
     "execution_count": 35,
     "metadata": {},
     "output_type": "execute_result"
    }
   ],
   "source": [
    "np.linalg.inv(A)"
   ]
  },
  {
   "cell_type": "code",
   "execution_count": 36,
   "id": "4363a317-aee1-47d5-88dd-1dc5fcd39a9f",
   "metadata": {},
   "outputs": [
    {
     "data": {
      "text/plain": [
       "EigResult(eigenvalues=array([17.07005854,  5.42118843, -1.49124697]), eigenvectors=array([[ 0.60774953, -0.99301965, -0.0329139 ],\n",
       "       [ 0.59211119, -0.02037983, -0.68587773],\n",
       "       [ 0.52919263,  0.11617504,  0.72697209]]))"
      ]
     },
     "execution_count": 36,
     "metadata": {},
     "output_type": "execute_result"
    }
   ],
   "source": [
    "np.linalg.eig(A)"
   ]
  },
  {
   "cell_type": "code",
   "execution_count": 37,
   "id": "87783b07-14e5-4e5e-a12c-a28d0d4d03f2",
   "metadata": {},
   "outputs": [
    {
     "data": {
      "text/plain": [
       "array([[44, 47, 64, 67, 67],\n",
       "       [ 9, 83, 21, 36, 87],\n",
       "       [70, 88, 88, 12, 58],\n",
       "       [65, 39, 87, 46, 88],\n",
       "       [81, 37, 25, 77, 72],\n",
       "       [ 9, 20, 80, 69, 79],\n",
       "       [47, 64, 82, 99, 88],\n",
       "       [49, 29, 19, 19, 14],\n",
       "       [39, 32, 65,  9, 57],\n",
       "       [32, 31, 74, 23, 35]])"
      ]
     },
     "execution_count": 37,
     "metadata": {},
     "output_type": "execute_result"
    }
   ],
   "source": [
    "np.random.seed(0)\n",
    "A = np.random.randint(0, 100, [10 ,5])\n",
    "A"
   ]
  },
  {
   "cell_type": "code",
   "execution_count": 38,
   "id": "5e7494fb-b875-4bf1-9ba2-30979c665d5b",
   "metadata": {},
   "outputs": [
    {
     "data": {
      "text/plain": [
       "array([44.5, 47. , 60.5, 45.7, 64.5])"
      ]
     },
     "execution_count": 38,
     "metadata": {},
     "output_type": "execute_result"
    }
   ],
   "source": [
    "B = A.mean(axis=0)\n",
    "B"
   ]
  },
  {
   "cell_type": "code",
   "execution_count": 39,
   "id": "1d4e977a-fd41-4d14-aa55-4fb6dec09277",
   "metadata": {},
   "outputs": [
    {
     "data": {
      "text/plain": [
       "array([22.66384786, 22.28003591, 26.5678377 , 29.36341261, 23.2432786 ])"
      ]
     },
     "execution_count": 39,
     "metadata": {},
     "output_type": "execute_result"
    }
   ],
   "source": [
    "C = A.std (axis=0)\n",
    "C"
   ]
  },
  {
   "cell_type": "code",
   "execution_count": 40,
   "id": "f743072c-fd5c-47a0-bd51-93780d32df91",
   "metadata": {},
   "outputs": [
    {
     "data": {
      "text/plain": [
       "array([[-0.02206157,  0.        ,  0.13173823,  0.72539252,  0.10755798],\n",
       "       [-1.56637126,  1.61579632, -1.48676006, -0.33034307,  0.96802178],\n",
       "       [ 1.12513992,  1.84021247,  1.03508612, -1.14768676, -0.27965074],\n",
       "       [ 0.90452425, -0.35906585,  0.99744662,  0.0102168 ,  1.01104497],\n",
       "       [ 1.6104944 , -0.44883231, -1.33620208,  1.0659524 ,  0.32267393],\n",
       "       [-1.56637126, -1.21184724,  0.73397016,  0.7935045 ,  0.62383626],\n",
       "       [ 0.11030784,  0.76301493,  0.80924915,  1.81518411,  1.01104497],\n",
       "       [ 0.1985541 , -0.80789816, -1.56203905, -0.90929485, -2.17267111],\n",
       "       [-0.24267724, -0.67324847,  0.16937773, -1.24985473, -0.32267393],\n",
       "       [-0.55153918, -0.7181317 ,  0.50813319, -0.77307091, -1.26918412]])"
      ]
     },
     "execution_count": 40,
     "metadata": {},
     "output_type": "execute_result"
    }
   ],
   "source": [
    "E = (A-B)/C\n",
    "E"
   ]
  },
  {
   "cell_type": "code",
   "execution_count": 41,
   "id": "88e53b62-6e5f-4494-a178-dd94bb5d6fb4",
   "metadata": {},
   "outputs": [
    {
     "name": "stdout",
     "output_type": "stream",
     "text": [
      "[44  9 70 65 81  9 47 49 39 32] [44.5 47.  60.5 45.7 64.5] [22.66384786 22.28003591 26.5678377  29.36341261 23.2432786 ]\n"
     ]
    }
   ],
   "source": [
    "print(A[:,0], B, C)\n",
    "D =np.zeros((10,5))\n",
    "D[0,0] = (A[0,0]-B[0])/C[0]\n",
    "D[1,0] = (A[1,0]-B[0])/C[0]\n",
    "D[2,0] = (A[2,0]-B[0])/C[0]"
   ]
  },
  {
   "cell_type": "code",
   "execution_count": 42,
   "id": "d6bba152-de1f-445d-b8f3-165733309dda",
   "metadata": {},
   "outputs": [
    {
     "data": {
      "text/plain": [
       "array([[-0.02206157,  0.        ,  0.13173823,  0.72539252,  0.10755798],\n",
       "       [-1.56637126,  1.61579632, -1.48676006, -0.33034307,  0.96802178],\n",
       "       [ 1.12513992,  1.84021247,  1.03508612, -1.14768676, -0.27965074],\n",
       "       [ 0.90452425, -0.35906585,  0.99744662,  0.0102168 ,  1.01104497],\n",
       "       [ 1.6104944 , -0.44883231, -1.33620208,  1.0659524 ,  0.32267393],\n",
       "       [-1.56637126, -1.21184724,  0.73397016,  0.7935045 ,  0.62383626],\n",
       "       [ 0.11030784,  0.76301493,  0.80924915,  1.81518411,  1.01104497],\n",
       "       [ 0.1985541 , -0.80789816, -1.56203905, -0.90929485, -2.17267111],\n",
       "       [-0.24267724, -0.67324847,  0.16937773, -1.24985473, -0.32267393],\n",
       "       [-0.55153918, -0.7181317 ,  0.50813319, -0.77307091, -1.26918412]])"
      ]
     },
     "execution_count": 42,
     "metadata": {},
     "output_type": "execute_result"
    }
   ],
   "source": [
    "D =np.zeros((10,5))\n",
    "def dataset ():\n",
    "    for j in range(5):\n",
    "        for i in range(10):\n",
    "            D[i,j] = (A[i,j]-B[j])/C[j]\n",
    "    return D\n",
    "dataset ()"
   ]
  },
  {
   "cell_type": "code",
   "execution_count": null,
   "id": "157a1db6-fd83-4dc1-b345-ed308bf26f31",
   "metadata": {},
   "outputs": [],
   "source": []
  },
  {
   "cell_type": "code",
   "execution_count": null,
   "id": "bff07cf2-9a0b-4f42-a296-a0aeb18427fe",
   "metadata": {},
   "outputs": [],
   "source": []
  }
 ],
 "metadata": {
  "kernelspec": {
   "display_name": "Python [conda env:base] *",
   "language": "python",
   "name": "conda-base-py"
  },
  "language_info": {
   "codemirror_mode": {
    "name": "ipython",
    "version": 3
   },
   "file_extension": ".py",
   "mimetype": "text/x-python",
   "name": "python",
   "nbconvert_exporter": "python",
   "pygments_lexer": "ipython3",
   "version": "3.12.7"
  }
 },
 "nbformat": 4,
 "nbformat_minor": 5
}
