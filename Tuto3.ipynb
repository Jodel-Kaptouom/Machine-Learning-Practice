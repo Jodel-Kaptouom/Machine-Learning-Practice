{
 "cells": [
  {
   "cell_type": "code",
   "execution_count": 1,
   "id": "4af227bf-67f9-4296-b4f9-69568740ab97",
   "metadata": {},
   "outputs": [
    {
     "data": {
      "text/plain": [
       "{'Good Night': 'Bonne nuit',\n",
       " 'Good Morning': 'Bonjour',\n",
       " 'Birds': 'Oiseaux',\n",
       " 'Good afternoon': 'Bonne apres midi'}"
      ]
     },
     "execution_count": 1,
     "metadata": {},
     "output_type": "execute_result"
    }
   ],
   "source": [
    "# DICTIONAIRE \n",
    "Traduction = {\n",
    "    \"Good Night\" : \"Bonne nuit\",\n",
    "    \"Good Morning\" : \"Bonjour\",\n",
    "    \"Birds\" : \"Oiseaux\", \n",
    "    \"Good afternoon\" : \"Bonne apres midi\"\n",
    "}\n",
    "Traduction"
   ]
  },
  {
   "cell_type": "code",
   "execution_count": 3,
   "id": "752406bf-69b1-4201-92dc-e6e2398d8606",
   "metadata": {},
   "outputs": [
    {
     "data": {
      "text/plain": [
       "dict_values(['Bonne nuit', 'Bonjour', 'Oiseaux', 'Bonne apres midi'])"
      ]
     },
     "execution_count": 3,
     "metadata": {},
     "output_type": "execute_result"
    }
   ],
   "source": [
    "Traduction.values ()"
   ]
  },
  {
   "cell_type": "code",
   "execution_count": 14,
   "id": "35bc0047-7341-45e6-b354-f24a58207ea5",
   "metadata": {},
   "outputs": [
    {
     "data": {
      "text/plain": [
       "4"
      ]
     },
     "execution_count": 14,
     "metadata": {},
     "output_type": "execute_result"
    }
   ],
   "source": [
    "Traduction.keys ()"
   ]
  },
  {
   "cell_type": "code",
   "execution_count": null,
   "id": "59914e07-a556-4328-84d3-b66b92a94e67",
   "metadata": {},
   "outputs": [],
   "source": [
    "len (Traduction)"
   ]
  },
  {
   "cell_type": "code",
   "execution_count": 15,
   "id": "734d7035-78a1-4db3-8abc-4470068c574d",
   "metadata": {},
   "outputs": [
    {
     "data": {
      "text/plain": [
       "{'Good Night': 'Bonne nuit',\n",
       " 'Good Morning': 'Bonjour',\n",
       " 'Birds': 'Oiseaux',\n",
       " 'Good afternoon': 'Bonne apres midi',\n",
       " 'Good evening': 'Bonsoir'}"
      ]
     },
     "execution_count": 15,
     "metadata": {},
     "output_type": "execute_result"
    }
   ],
   "source": [
    "Traduction[\"Good evening\"] = \"Bonsoir\"\n",
    "Traduction"
   ]
  },
  {
   "cell_type": "code",
   "execution_count": 20,
   "id": "a6d16f11-a470-4934-a224-ecce1eb1d86a",
   "metadata": {},
   "outputs": [
    {
     "name": "stdout",
     "output_type": "stream",
     "text": [
      "Bonsoir\n"
     ]
    }
   ],
   "source": [
    "print (Traduction.get(\"Good evening\", 1))"
   ]
  },
  {
   "cell_type": "code",
   "execution_count": 21,
   "id": "1ff88be2-f497-4cc9-a55a-0aab19f8c522",
   "metadata": {},
   "outputs": [
    {
     "data": {
      "text/plain": [
       "{'Goettingen': None, 'Kassel': None, 'Frankfurt': None}"
      ]
     },
     "execution_count": 21,
     "metadata": {},
     "output_type": "execute_result"
    }
   ],
   "source": [
    "liste_1 = (\"Goettingen\", \"Kassel\", \"Frankfurt\")\n",
    "Traduction.fromkeys(liste_1)"
   ]
  },
  {
   "cell_type": "code",
   "execution_count": 22,
   "id": "50a58b9d-1e67-4db3-a776-73405e913cde",
   "metadata": {},
   "outputs": [
    {
     "data": {
      "text/plain": [
       "{'Good Night': 'Bonne nuit',\n",
       " 'Birds': 'Oiseaux',\n",
       " 'Good afternoon': 'Bonne apres midi',\n",
       " 'Good evening': 'Bonsoir'}"
      ]
     },
     "execution_count": 22,
     "metadata": {},
     "output_type": "execute_result"
    }
   ],
   "source": [
    "Traduction.pop(\"Good Morning\")\n",
    "Traduction"
   ]
  },
  {
   "cell_type": "code",
   "execution_count": 23,
   "id": "fd50bc13-ed21-4173-8baa-a3147817fa2d",
   "metadata": {},
   "outputs": [
    {
     "name": "stdout",
     "output_type": "stream",
     "text": [
      "Good Night Bonne nuit\n",
      "Birds Oiseaux\n",
      "Good afternoon Bonne apres midi\n",
      "Good evening Bonsoir\n"
     ]
    }
   ],
   "source": [
    "for i,j in Traduction.items():\n",
    "    print (i,j)"
   ]
  },
  {
   "cell_type": "code",
   "execution_count": 24,
   "id": "707e8e72-34b0-4bfb-850c-7c0644618c52",
   "metadata": {},
   "outputs": [],
   "source": [
    "classeur = {\n",
    "    \"positif\" : [],\n",
    "    \"negatif\" : [],\n",
    "}"
   ]
  },
  {
   "cell_type": "code",
   "execution_count": 67,
   "id": "868cf509-2d1e-4b0a-b5b5-e8f7da57647e",
   "metadata": {},
   "outputs": [],
   "source": [
    "def trier (classeur, nombre):\n",
    "    #resultat = sign (nombre)\n",
    "    if nombre > 0:\n",
    "        classeur[\"positif\"].append(nombre)\n",
    "    else: \n",
    "        classeur[\"negatif\"].append(nombre)"
   ]
  },
  {
   "cell_type": "code",
   "execution_count": 68,
   "id": "3807f639-87e3-4845-9b04-865bcff2f1cd",
   "metadata": {},
   "outputs": [
    {
     "data": {
      "text/plain": [
       "{'positif': [2, 3], 'negatif': [-5]}"
      ]
     },
     "execution_count": 68,
     "metadata": {},
     "output_type": "execute_result"
    }
   ],
   "source": [
    "trier (classeur, -5)\n",
    "classeur "
   ]
  },
  {
   "cell_type": "code",
   "execution_count": 45,
   "id": "dc602ab3-0992-415b-84d2-deed2403a78d",
   "metadata": {},
   "outputs": [],
   "source": [
    "import time "
   ]
  },
  {
   "cell_type": "code",
   "execution_count": 47,
   "id": "5d79a64e-5ed6-4265-b749-a3ce3c9e6708",
   "metadata": {},
   "outputs": [
    {
     "name": "stdout",
     "output_type": "stream",
     "text": [
      "0.0010023117065429688\n"
     ]
    }
   ],
   "source": [
    "start = time.time()\n",
    "\n",
    "liste_1 = []\n",
    "for i in range (10): \n",
    "    liste_1.append(i**2)\n",
    "\n",
    "end = time.time()\n",
    "print (end-start)\n",
    "print (liste_1)"
   ]
  },
  {
   "cell_type": "code",
   "execution_count": 48,
   "id": "b9ad670b-5990-4468-b2c7-220f84599162",
   "metadata": {},
   "outputs": [
    {
     "name": "stdout",
     "output_type": "stream",
     "text": [
      "0.0\n"
     ]
    }
   ],
   "source": [
    "# LIST COMPREHENSION\n",
    "start = time.time()\n",
    "\n",
    "liste_2 = [i**2 for i in range (10)]\n",
    "\n",
    "end = time.time()\n",
    "print (end-start)\n",
    "print (liste_2)"
   ]
  },
  {
   "cell_type": "code",
   "execution_count": 51,
   "id": "29026211-fd9f-4bf0-a9ce-ca957661518c",
   "metadata": {},
   "outputs": [
    {
     "data": {
      "text/plain": [
       "[[0, 1, 2], [0, 1, 2], [0, 1, 2]]"
      ]
     },
     "execution_count": 51,
     "metadata": {},
     "output_type": "execute_result"
    }
   ],
   "source": [
    "liste_3 = [[i for i in range (3)] for j in range (3)]\n",
    "liste_3"
   ]
  },
  {
   "cell_type": "code",
   "execution_count": 52,
   "id": "cf9287e7-568d-4274-b2e7-cb07e7cb5741",
   "metadata": {},
   "outputs": [
    {
     "name": "stdout",
     "output_type": "stream",
     "text": [
      "{0: 'Baurel', 1: 'Nivelle', 2: 'vanelle', 3: 'perel', 4: 'Carleto', 5: 'Nathanael'}\n"
     ]
    }
   ],
   "source": [
    "prenoms = [\"Baurel\", \"Nivelle\", \"vanelle\", \"perel\", \"Carleto\", \"Nathanael\"]\n",
    "dico = {k:v for k,v in enumerate(prenoms)}\n",
    "print (dico)"
   ]
  },
  {
   "cell_type": "code",
   "execution_count": 57,
   "id": "440c6c80-e1af-434d-afb8-2bee3e21f1d4",
   "metadata": {},
   "outputs": [
    {
     "name": "stdout",
     "output_type": "stream",
     "text": [
      "{'Baurel': 26, 'Nivelle': 25, 'Carleto': 33, 'Nathanael': 31}\n"
     ]
    }
   ],
   "source": [
    "ages = [26, 25, 20, 18, 33, 31]\n",
    "dico_2 = {prenom:age for prenom,age in zip(prenoms, ages) if age >20}\n",
    "print (dico_2)"
   ]
  },
  {
   "cell_type": "code",
   "execution_count": 71,
   "id": "b5c184d7-9f8e-4a92-b775-cdcaa4d46249",
   "metadata": {},
   "outputs": [
    {
     "name": "stdout",
     "output_type": "stream",
     "text": [
      "{0: 0, 1: 1, 2: 4, 3: 9, 4: 16, 5: 25, 6: 36, 7: 49, 8: 64, 9: 81, 10: 100, 11: 121, 12: 144, 13: 169, 14: 196, 15: 225, 16: 256, 17: 289, 18: 324, 19: 361, 20: 400}\n"
     ]
    }
   ],
   "source": [
    "v = [i**2 for i in range (21)]\n",
    "dico_3 ={k:v for k,v in enumerate (v)}\n",
    "print (dico_3)"
   ]
  },
  {
   "cell_type": "code",
   "execution_count": null,
   "id": "9dece5bf-2b57-4dac-a9f7-c0bb50efe820",
   "metadata": {},
   "outputs": [],
   "source": []
  }
 ],
 "metadata": {
  "kernelspec": {
   "display_name": "Python [conda env:base] *",
   "language": "python",
   "name": "conda-base-py"
  },
  "language_info": {
   "codemirror_mode": {
    "name": "ipython",
    "version": 3
   },
   "file_extension": ".py",
   "mimetype": "text/x-python",
   "name": "python",
   "nbconvert_exporter": "python",
   "pygments_lexer": "ipython3",
   "version": "3.12.7"
  }
 },
 "nbformat": 4,
 "nbformat_minor": 5
}
