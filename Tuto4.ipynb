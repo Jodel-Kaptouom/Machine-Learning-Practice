{
 "cells": [
  {
   "cell_type": "code",
   "execution_count": 2,
   "id": "d33658a0-d801-404f-b13b-be36b42b569d",
   "metadata": {},
   "outputs": [
    {
     "data": {
      "text/plain": [
       "3"
      ]
     },
     "execution_count": 2,
     "metadata": {},
     "output_type": "execute_result"
    }
   ],
   "source": [
    "x = -3 \n",
    "y= 3.14\n",
    "abs (x)\n",
    "round (y)"
   ]
  },
  {
   "cell_type": "code",
   "execution_count": 4,
   "id": "b564b054-b59b-485e-817d-0717aae8dad7",
   "metadata": {},
   "outputs": [
    {
     "data": {
      "text/plain": [
       "25"
      ]
     },
     "execution_count": 4,
     "metadata": {},
     "output_type": "execute_result"
    }
   ],
   "source": [
    "liste_1 =[0,25,14,8,7]\n",
    "max(liste_1)\n"
   ]
  },
  {
   "cell_type": "code",
   "execution_count": 5,
   "id": "11a39247-56ef-4ab6-81b5-ba14404ff051",
   "metadata": {},
   "outputs": [
    {
     "data": {
      "text/plain": [
       "0"
      ]
     },
     "execution_count": 5,
     "metadata": {},
     "output_type": "execute_result"
    }
   ],
   "source": [
    "min (liste_1)"
   ]
  },
  {
   "cell_type": "code",
   "execution_count": 6,
   "id": "7629f84a-028f-433d-b6f6-ce6351adb690",
   "metadata": {},
   "outputs": [
    {
     "data": {
      "text/plain": [
       "5"
      ]
     },
     "execution_count": 6,
     "metadata": {},
     "output_type": "execute_result"
    }
   ],
   "source": [
    "len (liste_1)"
   ]
  },
  {
   "cell_type": "code",
   "execution_count": 7,
   "id": "f5752743-0652-4217-a98e-526befaeb9b4",
   "metadata": {},
   "outputs": [
    {
     "data": {
      "text/plain": [
       "54"
      ]
     },
     "execution_count": 7,
     "metadata": {},
     "output_type": "execute_result"
    }
   ],
   "source": [
    "sum (liste_1)"
   ]
  },
  {
   "cell_type": "code",
   "execution_count": 8,
   "id": "a2005fc6-55f6-44bb-926f-adbdc36d07c0",
   "metadata": {},
   "outputs": [
    {
     "data": {
      "text/plain": [
       "False"
      ]
     },
     "execution_count": 8,
     "metadata": {},
     "output_type": "execute_result"
    }
   ],
   "source": [
    "liste_2 =[True, True, False]\n",
    "all (liste_2)    # True if all the elements of the list is True "
   ]
  },
  {
   "cell_type": "code",
   "execution_count": 9,
   "id": "5a6629f8-9bf6-40ba-a9fb-a4d208f0a874",
   "metadata": {},
   "outputs": [
    {
     "data": {
      "text/plain": [
       "True"
      ]
     },
     "execution_count": 9,
     "metadata": {},
     "output_type": "execute_result"
    }
   ],
   "source": [
    "any (liste_2)  # True if one element of the list is true"
   ]
  },
  {
   "cell_type": "code",
   "execution_count": 10,
   "id": "d0cda68a-2977-4d7b-85b3-588556379f77",
   "metadata": {},
   "outputs": [
    {
     "data": {
      "text/plain": [
       "False"
      ]
     },
     "execution_count": 10,
     "metadata": {},
     "output_type": "execute_result"
    }
   ],
   "source": [
    "all (liste_1)"
   ]
  },
  {
   "cell_type": "code",
   "execution_count": 11,
   "id": "8f10eb15-c333-488e-92a7-738169b0ef54",
   "metadata": {},
   "outputs": [
    {
     "data": {
      "text/plain": [
       "True"
      ]
     },
     "execution_count": 11,
     "metadata": {},
     "output_type": "execute_result"
    }
   ],
   "source": [
    "any (liste_1)  # au moins 1 element de la liste_1 nest pas egale a 0"
   ]
  },
  {
   "cell_type": "code",
   "execution_count": 12,
   "id": "10336a6e-5d4a-4b93-b79e-66d2ae30cb93",
   "metadata": {},
   "outputs": [
    {
     "data": {
      "text/plain": [
       "int"
      ]
     },
     "execution_count": 12,
     "metadata": {},
     "output_type": "execute_result"
    }
   ],
   "source": [
    "type (x)"
   ]
  },
  {
   "cell_type": "code",
   "execution_count": 14,
   "id": "b6aa2352-69a1-4981-b750-82a80d1fc812",
   "metadata": {},
   "outputs": [
    {
     "data": {
      "text/plain": [
       "(0, 25, 14, 8, 7)"
      ]
     },
     "execution_count": 14,
     "metadata": {},
     "output_type": "execute_result"
    }
   ],
   "source": [
    "tuple_1 = tuple (liste_1)\n",
    "tuple_1"
   ]
  },
  {
   "cell_type": "code",
   "execution_count": 18,
   "id": "f7fac9f9-8ba4-4cff-aa4e-a8c411a6bfee",
   "metadata": {},
   "outputs": [],
   "source": [
    "Traduction = {\n",
    "    \"Good Night\" : \"Bonne nuit\",\n",
    "    \"Good Morning\" : \"Bonjour\",\n",
    "    \"Birds\" : \"Oiseaux\", \n",
    "    \"Good afternoon\" : \"Bonne apres midi\"\n",
    "}\n"
   ]
  },
  {
   "cell_type": "code",
   "execution_count": 21,
   "id": "2a8c89ad-1c11-4cdf-9dff-dbe6d1c31948",
   "metadata": {},
   "outputs": [
    {
     "data": {
      "text/plain": [
       "['Good Night', 'Good Morning', 'Birds', 'Good afternoon']"
      ]
     },
     "execution_count": 21,
     "metadata": {},
     "output_type": "execute_result"
    }
   ],
   "source": [
    "liste_3 = list(Traduction.keys())\n",
    "liste_3"
   ]
  },
  {
   "cell_type": "code",
   "execution_count": 25,
   "id": "3f2893c5-45c8-4a78-bc39-48e3c6071aaf",
   "metadata": {},
   "outputs": [
    {
     "name": "stdout",
     "output_type": "stream",
     "text": [
      "The temperature in jaunde is 30 degC\n"
     ]
    }
   ],
   "source": [
    "temp=30 \n",
    "ville = \"jaunde\"\n",
    "print (f\"The temperature in {ville} is {temp} degC\")"
   ]
  },
  {
   "cell_type": "code",
   "execution_count": 26,
   "id": "50b60011-8e7f-4f55-99ce-f2fc8356fa83",
   "metadata": {},
   "outputs": [],
   "source": [
    "f = open ('fichier.txt', 'w')\n",
    "f.write ('Bonjour')\n",
    "f.close()"
   ]
  },
  {
   "cell_type": "code",
   "execution_count": 27,
   "id": "fb9f5c68-fa84-4d35-9daa-e3ef733f1ff1",
   "metadata": {},
   "outputs": [
    {
     "name": "stdout",
     "output_type": "stream",
     "text": [
      "Bonjour\n"
     ]
    }
   ],
   "source": [
    "f= open ('fichier.txt', 'r')\n",
    "print (f.read ())\n",
    "f.close()"
   ]
  },
  {
   "cell_type": "code",
   "execution_count": 28,
   "id": "1a646a90-e588-4c47-a0c1-56aa03963371",
   "metadata": {},
   "outputs": [
    {
     "name": "stdout",
     "output_type": "stream",
     "text": [
      "Bonjour\n"
     ]
    }
   ],
   "source": [
    "# ou bien sans avoir besoin d#utiliser close on peut proceder ainsi : \n",
    "with open ('fichier.txt', 'r') as f: \n",
    "    print (f.read())"
   ]
  },
  {
   "cell_type": "code",
   "execution_count": 44,
   "id": "c471bc5c-fa58-40ee-8553-efbaaa07dc98",
   "metadata": {},
   "outputs": [],
   "source": [
    "with open ('fichier.txt', 'w') as f: \n",
    "    for i in range (10): \n",
    "        k = i**2 \n",
    "        f.write(\"{}^2 = {}\\n\".format (i, k))"
   ]
  },
  {
   "cell_type": "code",
   "execution_count": 45,
   "id": "bb86766b-7f6b-4ae3-a649-292080e7f338",
   "metadata": {
    "scrolled": true
   },
   "outputs": [
    {
     "name": "stdout",
     "output_type": "stream",
     "text": [
      "0^2 = 0\n",
      "1^2 = 1\n",
      "2^2 = 4\n",
      "3^2 = 9\n",
      "4^2 = 16\n",
      "5^2 = 25\n",
      "6^2 = 36\n",
      "7^2 = 49\n",
      "8^2 = 64\n",
      "9^2 = 81\n",
      "\n"
     ]
    }
   ],
   "source": [
    "with open ('fichier.txt', 'r') as f: \n",
    "    print (f.read())"
   ]
  },
  {
   "cell_type": "code",
   "execution_count": 46,
   "id": "662746ff-1103-4258-8cbd-f9489883a146",
   "metadata": {},
   "outputs": [
    {
     "data": {
      "text/plain": [
       "['0^2 = 0\\n',\n",
       " '1^2 = 1\\n',\n",
       " '2^2 = 4\\n',\n",
       " '3^2 = 9\\n',\n",
       " '4^2 = 16\\n',\n",
       " '5^2 = 25\\n',\n",
       " '6^2 = 36\\n',\n",
       " '7^2 = 49\\n',\n",
       " '8^2 = 64\\n',\n",
       " '9^2 = 81\\n']"
      ]
     },
     "execution_count": 46,
     "metadata": {},
     "output_type": "execute_result"
    }
   ],
   "source": [
    "with open ('fichier.txt', 'r') as f: \n",
    "    liste_1 = f.readlines()\n",
    "liste_1"
   ]
  },
  {
   "cell_type": "code",
   "execution_count": 47,
   "id": "f6e3e1a6-70ea-4731-b4af-5d15528a8c4b",
   "metadata": {},
   "outputs": [
    {
     "data": {
      "text/plain": [
       "['0^2 = 0',\n",
       " '1^2 = 1',\n",
       " '2^2 = 4',\n",
       " '3^2 = 9',\n",
       " '4^2 = 16',\n",
       " '5^2 = 25',\n",
       " '6^2 = 36',\n",
       " '7^2 = 49',\n",
       " '8^2 = 64',\n",
       " '9^2 = 81']"
      ]
     },
     "execution_count": 47,
     "metadata": {},
     "output_type": "execute_result"
    }
   ],
   "source": [
    "with open ('fichier.txt', 'r') as f: \n",
    "    liste_2 = f.read().splitlines()\n",
    "liste_2"
   ]
  },
  {
   "cell_type": "code",
   "execution_count": 51,
   "id": "080b401e-24b7-4831-81ad-935d0ef66c86",
   "metadata": {},
   "outputs": [
    {
     "data": {
      "text/plain": [
       "['0^2 = 0',\n",
       " '1^2 = 1',\n",
       " '2^2 = 4',\n",
       " '3^2 = 9',\n",
       " '4^2 = 16',\n",
       " '5^2 = 25',\n",
       " '6^2 = 36',\n",
       " '7^2 = 49',\n",
       " '8^2 = 64',\n",
       " '9^2 = 81']"
      ]
     },
     "execution_count": 51,
     "metadata": {},
     "output_type": "execute_result"
    }
   ],
   "source": [
    "liste_4 = [line.strip() for line in open(\"fichier.txt\", \"r\")]\n",
    "liste_4"
   ]
  },
  {
   "cell_type": "code",
   "execution_count": null,
   "id": "e8dd987c-a3c8-4204-a263-8aa913704dbe",
   "metadata": {},
   "outputs": [],
   "source": [
    "with open ('fichier.txt', 'w') as f: \n",
    "    k= [i**2 for i in range (10)]  \n",
    "    f.write(\"{}\".format (k))"
   ]
  }
 ],
 "metadata": {
  "kernelspec": {
   "display_name": "Python [conda env:base] *",
   "language": "python",
   "name": "conda-base-py"
  },
  "language_info": {
   "codemirror_mode": {
    "name": "ipython",
    "version": 3
   },
   "file_extension": ".py",
   "mimetype": "text/x-python",
   "name": "python",
   "nbconvert_exporter": "python",
   "pygments_lexer": "ipython3",
   "version": "3.12.7"
  }
 },
 "nbformat": 4,
 "nbformat_minor": 5
}
