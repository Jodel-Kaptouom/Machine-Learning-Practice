{
 "cells": [
  {
   "cell_type": "markdown",
   "id": "446e88b4-a7d5-40b7-921c-557454f64750",
   "metadata": {},
   "source": [
    "# Arithmetique \n",
    "x+y, \n",
    "x-y,\n",
    "x*y,\n",
    "x/y\n",
    "x**y\n",
    "# Comparaison \n",
    "x<=y, \n",
    "x>=y, \n",
    "x==y, \n",
    "x!=y.\n",
    "# Logique \n",
    "False & True, AND \n",
    "False | True,  OR\n",
    "False ^ True   XOR\n",
    "# Fonction \n",
    "f=lamda x: x**2   f(x) = x au carre seulement une fonction de type mathematique "
   ]
  },
  {
   "cell_type": "code",
   "execution_count": 38,
   "id": "8b721d70-e43f-419c-850d-72a8534c0bae",
   "metadata": {},
   "outputs": [],
   "source": [
    "def e_potentielle(masse, hauteur, e_limite, pesanteur=9.81): \n",
    "    E = masse*hauteur*pesanteur\n",
    "    return E < e_limite\n",
    "    \n",
    "    #if (E>e_limite):\n",
    "    #print (\"Votre Energie potentielle est : {} Joules\".format(E))\n",
    "    \n",
    "    # you can use return if you want to use the result of the function e_potentielle\n",
    "    #return E"
   ]
  },
  {
   "cell_type": "code",
   "execution_count": 41,
   "id": "f5e0aeaf-cee4-4d82-bec3-f22914277203",
   "metadata": {},
   "outputs": [
    {
     "name": "stdout",
     "output_type": "stream",
     "text": [
      "True\n"
     ]
    }
   ],
   "source": [
    "resultat =e_potentielle (masse=80, hauteur=5, e_limite = 4500, pesanteur= 10)\n",
    "print (resultat)"
   ]
  },
  {
   "cell_type": "code",
   "execution_count": null,
   "id": "2a144133-dcb5-4e53-9c1c-84bfa4f7bd46",
   "metadata": {},
   "outputs": [],
   "source": [
    "print ('Bonjour')\n",
    "resultat = e_potentielle (masse=80, hauteur=5, e_limite = 4500, pesanteur= 10)"
   ]
  },
  {
   "cell_type": "code",
   "execution_count": 24,
   "id": "1a75d1b4-e338-4844-bca3-94c00f4fd115",
   "metadata": {},
   "outputs": [],
   "source": [
    "def sign(x):\n",
    "    if x>0:\n",
    "        print (x, \" est positif\")\n",
    "    elif x==0: \n",
    "        print (x, \"est nul\")\n",
    "    else : \n",
    "        print (x, \"est negatif\")"
   ]
  },
  {
   "cell_type": "code",
   "execution_count": 25,
   "id": "366c4a13-5634-4be5-919d-48d6ce7b370d",
   "metadata": {},
   "outputs": [
    {
     "name": "stdout",
     "output_type": "stream",
     "text": [
      "-1 est negatif\n"
     ]
    }
   ],
   "source": [
    "sign (-1)"
   ]
  },
  {
   "cell_type": "code",
   "execution_count": 33,
   "id": "b12a280d-bc91-4e83-85e3-e44df26ffb86",
   "metadata": {},
   "outputs": [
    {
     "name": "stdout",
     "output_type": "stream",
     "text": [
      "10  est positif\n",
      "7  est positif\n",
      "4  est positif\n",
      "1  est positif\n",
      "-2 est negatif\n",
      "-5 est negatif\n",
      "-8 est negatif\n"
     ]
    }
   ],
   "source": [
    "for i in range (10,-10,-3):\n",
    "    sign(i)"
   ]
  },
  {
   "cell_type": "code",
   "execution_count": null,
   "id": "118c32e0-4f17-4aef-9a0e-01df159689d3",
   "metadata": {},
   "outputs": [],
   "source": [
    "x =0\n",
    "while x<10:\n",
    "    print (x)\n",
    "    x+=1"
   ]
  },
  {
   "cell_type": "code",
   "execution_count": 60,
   "id": "abdcc7b0-e515-423c-b63e-d64d768bb9dd",
   "metadata": {},
   "outputs": [],
   "source": [
    "def fibonacci (n):\n",
    "    a,b = 0, 1\n",
    "    while a<n:\n",
    "        print (a)\n",
    "        c=b\n",
    "        b = a+b  \n",
    "        a=c\n",
    "        # oder wir können jeder Ihrem Wert zuweisen wie : a, b = b, a+b"
   ]
  },
  {
   "cell_type": "code",
   "execution_count": 63,
   "id": "0f276227-fd8d-461f-a4de-a035cfa35448",
   "metadata": {},
   "outputs": [
    {
     "name": "stdout",
     "output_type": "stream",
     "text": [
      "0\n",
      "1\n",
      "1\n",
      "2\n",
      "3\n",
      "5\n",
      "8\n",
      "13\n",
      "21\n",
      "34\n",
      "55\n",
      "89\n",
      "144\n",
      "233\n",
      "377\n",
      "610\n",
      "987\n"
     ]
    }
   ],
   "source": [
    "fibonacci(1000)"
   ]
  },
  {
   "cell_type": "code",
   "execution_count": 62,
   "id": "96319190-4d2b-4f3b-b657-1b605c30ae1e",
   "metadata": {},
   "outputs": [
    {
     "data": {
      "text/plain": [
       "range(0, 10)"
      ]
     },
     "execution_count": 62,
     "metadata": {},
     "output_type": "execute_result"
    }
   ],
   "source": [
    "range (10)"
   ]
  },
  {
   "cell_type": "code",
   "execution_count": 67,
   "id": "941ce996-2802-4907-9331-69ff130aa551",
   "metadata": {},
   "outputs": [
    {
     "data": {
      "text/plain": [
       "[0, 1, 2, 3, 4, 5, 6, 7, 8, 9]"
      ]
     },
     "execution_count": 67,
     "metadata": {},
     "output_type": "execute_result"
    }
   ],
   "source": [
    "liste =[]\n",
    "for i in range (10): \n",
    "    liste.append(i)   \n",
    "liste "
   ]
  },
  {
   "cell_type": "code",
   "execution_count": null,
   "id": "5ec789d5-52b3-4c2d-93d9-7d63046be16a",
   "metadata": {},
   "outputs": [],
   "source": []
  }
 ],
 "metadata": {
  "kernelspec": {
   "display_name": "Python 3 (ipykernel)",
   "language": "python",
   "name": "python3"
  },
  "language_info": {
   "codemirror_mode": {
    "name": "ipython",
    "version": 3
   },
   "file_extension": ".py",
   "mimetype": "text/x-python",
   "name": "python",
   "nbconvert_exporter": "python",
   "pygments_lexer": "ipython3",
   "version": "3.12.7"
  }
 },
 "nbformat": 4,
 "nbformat_minor": 5
}
